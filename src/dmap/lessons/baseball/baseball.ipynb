{
 "cells": [
  {
   "cell_type": "markdown",
   "metadata": {},
   "source": [
    "## Welcome to Data, Machines and the 🐍\n",
    "<img src=\"https://raw.githubusercontent.com/NSF-EC/INFO490Assets/master/src/dmap/lessons/baseball/html/section00.png\" align=\"left\"/>"
   ]
  },
  {
   "cell_type": "markdown",
   "metadata": {},
   "source": [
    "<a id=\"install\"></a>\n",
    "## Notebook Preparation for Lesson\n",
    "Each lesson will start with a template (given in the course schedule).  \n",
    "Once you open the notebook:\n",
    "1. **save** in on your google drive (copy to drive) and share the notebook\n",
    "2. **copy** the share ID to the `NOTEBOOK_ID` (and re-save the notebook)\n",
    "3. **run** the next cell to install the IDE."
   ]
  },
  {
   "cell_type": "code",
   "execution_count": 0,
   "metadata": {},
   "outputs": [],
   "source": [
    "# After changing NOTEBOOK_ID to the shared ID\n",
    "# 1. SAVE THE NOTEBOOK cmd+s\n",
    "# 2. Re-RUN this code cell\n",
    "NOTEBOOK_ID  = '1GBamwb67eCSPp0YreXMIrFF-IZOT1nT3'  # change me!!\n",
    "LESSON_ID    = 'dmap:projects:baseball'       # keep this as is\n",
    "VERSION_ID   = 13\n",
    "\n",
    "def install_ide(lesson_id, nb_id, reload=True):\n",
    "  import os\n",
    "  if not os.path.exists('Bootstrap.py'):\n",
    "     !wget 'https://raw.githubusercontent.com/NSF-EC/INFO490Assets/master/src/tools/Bootstrap.py' -O Bootstrap.py > out.txt 2>&1 \n",
    "  try:\n",
    "    import Bootstrap, importlib\n",
    "    importlib.reload(Bootstrap)\n",
    "\n",
    "    boot = Bootstrap.BootStrap()\n",
    "    return boot.create_ide(lesson_id, nb_id, reload)\n",
    "  except Exception as e:\n",
    "    class Nop(object):\n",
    "        def __init__(self, e): self.e = e\n",
    "        def nop(self, *args, **kw): return(\"unable to test:\" + self.e, None)\n",
    "        def __getattr__(self, _): return self.nop \n",
    "    class IDE():\n",
    "      tester=Nop(str(e))\n",
    "      reader=Nop(str(e)) # RemoteReader ??\n",
    "    return IDE()\n",
    "\n",
    "ide = install_ide(LESSON_ID, NOTEBOOK_ID)\n",
    "ide.tester.hello_world()"
   ]
  },
  {
   "cell_type": "markdown",
   "metadata": {},
   "source": [
    "# Lesson Sports Analytics\n",
    "\n",
    "(run the next cell to read the first part of the lesson)"
   ]
  },
  {
   "cell_type": "code",
   "execution_count": 0,
   "metadata": {},
   "outputs": [],
   "source": [
    "# run to read the next section\n",
    "ide.reader.view_section(1)"
   ]
  },
  {
   "cell_type": "markdown",
   "metadata": {},
   "source": [
    "# Lesson Assignment"
   ]
  },
  {
   "cell_type": "code",
   "execution_count": 0,
   "metadata": {},
   "outputs": [],
   "source": [
    "# run to read the next section\n",
    "ide.reader.view_section(2)"
   ]
  },
  {
   "cell_type": "code",
   "execution_count": 0,
   "metadata": {},
   "outputs": [],
   "source": [
    "import pandas as pd\n",
    "import numpy as np\n",
    "import matplotlib\n",
    "import matplotlib.pyplot as plt\n",
    "\n",
    "# upload the data from baseball savant \n",
    "def upload_data():\n",
    "  from google.colab import files\n",
    "  files.upload()\n",
    "\n",
    "# upload_data()"
   ]
  },
  {
   "cell_type": "code",
   "execution_count": 0,
   "metadata": {},
   "outputs": [],
   "source": [
    "# run to read the next section\n",
    "ide.reader.view_section(4)"
   ]
  },
  {
   "cell_type": "code",
   "execution_count": 0,
   "metadata": {},
   "outputs": [],
   "source": [
    "def load_data(filename):\n",
    "    # load into pandas\n",
    "    return None\n",
    "\n",
    "def print_pitch_counts(df):\n",
    "    # print pitch counts\n",
    "    # any format will do but the easiest is just\n",
    "    # to print out the result of the pandas operation\n",
    "    return None\n",
    "    \n",
    "def step2():\n",
    "    df = load_data('./savant_data.csv')\n",
    "    print_pitch_counts(df)\n",
    "\n",
    "step2()"
   ]
  },
  {
   "cell_type": "code",
   "execution_count": 0,
   "metadata": {},
   "outputs": [],
   "source": [
    "# run to read the next section\n",
    "ide.reader.view_section(6)"
   ]
  },
  {
   "cell_type": "code",
   "execution_count": 0,
   "metadata": {},
   "outputs": [],
   "source": [
    "def build_color_map():\n",
    "  # return a simple python dictionary\n",
    "  # with the following mappings\n",
    "  # CH: green (changeup)\n",
    "  # CU: skyblue (curve)\n",
    "  # FF: red (4 seam fastball)\n",
    "  # SL: orange (slider)\n",
    "  return {} \n",
    "\n",
    "def plot_plate_location(df, cmap):\n",
    "   # keep this line as is\n",
    "   fig, axes = plt.subplots(nrows=1, ncols=1, figsize=(10,10)) \n",
    "   \n",
    "   return fig"
   ]
  },
  {
   "cell_type": "code",
   "execution_count": 0,
   "metadata": {},
   "outputs": [],
   "source": [
    "# run to read the next section\n",
    "ide.reader.view_section(8)"
   ]
  },
  {
   "cell_type": "code",
   "execution_count": 0,
   "metadata": {},
   "outputs": [],
   "source": [
    "def build_listed_color_map():\n",
    "  return matplotlib.colors.ListedColormap( ... )\n",
    "\n",
    "def plot_pitch_movement(df, lcmap):\n",
    "    # keep this as is\n",
    "    fig, axes = plt.subplots(nrows=1, ncols=1, figsize=(10,10))\n",
    "    return fig"
   ]
  },
  {
   "cell_type": "code",
   "execution_count": 0,
   "metadata": {},
   "outputs": [],
   "source": [
    "# run to read the next section\n",
    "ide.reader.view_section(10)"
   ]
  },
  {
   "cell_type": "markdown",
   "metadata": {},
   "source": [
    "# Test and Submit"
   ]
  },
  {
   "cell_type": "code",
   "execution_count": 0,
   "metadata": {},
   "outputs": [],
   "source": [
    "# run to read the next section\n",
    "ide.reader.view_section(11)"
   ]
  },
  {
   "cell_type": "code",
   "execution_count": 0,
   "metadata": {},
   "outputs": [],
   "source": [
    "# print(ide.tester.test_notebook()) \n",
    "# print(ide.tester.test_notebook(verbose=True)) \n",
    "\n",
    "ide.tester.download_solution()"
   ]
  }
 ],
 "metadata": {
  "colab": {
   "authorship_tag": "AB",
   "collapsed_sections": [],
   "count": 13,
   "name": "Sports Analytics",
   "provenance": []
  },
  "kernelspec": {
   "display_name": "Python 3",
   "name": "python3"
  },
  "language": "python"
 },
 "nbformat": 4,
 "nbformat_minor": 4
}
