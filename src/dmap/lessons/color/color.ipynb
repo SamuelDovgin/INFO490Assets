{
 "cells": [
  {
   "cell_type": "markdown",
   "metadata": {},
   "source": [
    "## Welcome to Data, Machines and the 🐍\n",
    "<img src=\"https://raw.githubusercontent.com/NSF-EC/INFO490Assets/master/src/dmap/lessons/color/html/section00.png\" align=\"left\"/>"
   ]
  },
  {
   "cell_type": "markdown",
   "metadata": {},
   "source": [
    "<a id=\"install\"></a>\n",
    "## Notebook Preparation for Lesson\n",
    "Each lesson will start with a template (given in the course schedule).  \n",
    "Once you open the notebook:\n",
    "1. **save** in on your google drive (copy to drive) and share the notebook\n",
    "2. **copy** the share ID to the `NOTEBOOK_ID` (and re-save the notebook)\n",
    "3. **run** the next cell to install the IDE."
   ]
  },
  {
   "cell_type": "code",
   "execution_count": 0,
   "metadata": {},
   "outputs": [],
   "source": [
    "# After changing NOTEBOOK_ID to the shared ID\n",
    "# 1. SAVE THE NOTEBOOK cmd+s\n",
    "# 2. Re-RUN this code cell\n",
    "NOTEBOOK_ID  = '1GBamwb67eCSPp0YreXMIrFF-IZOT1nT3'  # change me and save the notebook !!\n",
    "LESSON_ID    = 'dmap:data:color'       # keep this as is\n",
    "VERSION_ID   = 44\n",
    "\n",
    "def install_ide(lesson_id, nb_id, reload=True):\n",
    "  import os\n",
    "  if not os.path.exists('Bootstrap.py'):\n",
    "     !wget 'https://raw.githubusercontent.com/NSF-EC/INFO490Assets/master/src/tools/Bootstrap.py' -O Bootstrap.py > out.txt 2>&1 \n",
    "  try:\n",
    "    import Bootstrap, importlib\n",
    "    importlib.reload(Bootstrap)\n",
    "\n",
    "    boot = Bootstrap.BootStrap()\n",
    "    return boot.create_ide(lesson_id, nb_id, reload)\n",
    "  except Exception as e:\n",
    "    class Nop(object):\n",
    "        def __init__(self, e): self.e = e\n",
    "        def nop(self, *args, **kw): return(\"unable to test:\" + self.e, None)\n",
    "        def __getattr__(self, _): return self.nop \n",
    "    class IDE():\n",
    "      tester=Nop(str(e))\n",
    "      reader=Nop(str(e)) # RemoteReader ??\n",
    "    return IDE()\n",
    "\n",
    "ide = install_ide(LESSON_ID, NOTEBOOK_ID)\n",
    "ide.tester.hello_world()"
   ]
  },
  {
   "cell_type": "markdown",
   "metadata": {},
   "source": [
    "# Lesson Color\n",
    "\n",
    "(run the next cell to read the first part of the lesson)"
   ]
  },
  {
   "cell_type": "code",
   "execution_count": 0,
   "metadata": {},
   "outputs": [],
   "source": [
    "# run to read the next section\n",
    "ide.reader.view_section(1)"
   ]
  },
  {
   "cell_type": "code",
   "execution_count": 0,
   "metadata": {},
   "outputs": [],
   "source": [
    "import matplotlib\n",
    "import matplotlib.pyplot as plt\n",
    "\n",
    "def make_plot():\n",
    "  fig, axes = plt.subplots()\n",
    "  axes.scatter([0,1,2,3], [0,1,2,3])\n",
    "make_plot()"
   ]
  },
  {
   "cell_type": "code",
   "execution_count": 0,
   "metadata": {},
   "outputs": [],
   "source": [
    "# run to read the next section\n",
    "ide.reader.view_section(3)"
   ]
  },
  {
   "cell_type": "code",
   "execution_count": 0,
   "metadata": {},
   "outputs": [],
   "source": [
    "from LessonUtil import RandomData, RandomPetData\n",
    "data = RandomData(60)\n",
    "\n",
    "def plot_ex1(data):\n",
    "  fig, axes = plt.subplots()\n",
    "  axes.scatter(data.x, data.y, c='b')\n",
    "plot_ex1(data)"
   ]
  },
  {
   "cell_type": "code",
   "execution_count": 0,
   "metadata": {},
   "outputs": [],
   "source": [
    "# run to read the next section\n",
    "ide.reader.view_section(5)"
   ]
  },
  {
   "cell_type": "code",
   "execution_count": 0,
   "metadata": {},
   "outputs": [],
   "source": [
    "def plot_ex2(data):\n",
    "  fig, axes = plt.subplots()\n",
    "  axes.scatter(data.x, data.y, color='blue')\n",
    "plot_ex2(data)"
   ]
  },
  {
   "cell_type": "code",
   "execution_count": 0,
   "metadata": {},
   "outputs": [],
   "source": [
    "# run to read the next section\n",
    "ide.reader.view_section(7)"
   ]
  },
  {
   "cell_type": "code",
   "execution_count": 0,
   "metadata": {},
   "outputs": [],
   "source": [
    "def plot_ex3(data):\n",
    "  fig, axes = plt.subplots()\n",
    "  axes.scatter(data.x, data.y, facecolor='g', edgecolor='r')\n",
    "  # the plural is also available\n",
    "  #axes.scatter(data.x, data.y, facecolors='g', edgecolors='r')\n",
    "  \n",
    "plot_ex3(data)"
   ]
  },
  {
   "cell_type": "code",
   "execution_count": 0,
   "metadata": {},
   "outputs": [],
   "source": [
    "# run to read the next section\n",
    "ide.reader.view_section(9)"
   ]
  },
  {
   "cell_type": "code",
   "execution_count": 0,
   "metadata": {},
   "outputs": [],
   "source": [
    "def plot_ex4(data):\n",
    "  fig, axes = plt.subplots()\n",
    "  axes.bar(data.n, data.y, color='b')\n",
    "data4 = RandomData(4)\n",
    "plot_ex4(data4)"
   ]
  },
  {
   "cell_type": "code",
   "execution_count": 0,
   "metadata": {},
   "outputs": [],
   "source": [
    "# run to read the next section\n",
    "ide.reader.view_section(11)"
   ]
  },
  {
   "cell_type": "code",
   "execution_count": 0,
   "metadata": {},
   "outputs": [],
   "source": [
    "def plot_ex5(data):\n",
    "  fig, axes = plt.subplots()\n",
    "  axes.scatter(data.x, data.y, s=150, color=['g', 'r', 'b', 'w'], edgecolor='r')\n",
    "\n",
    "plot_ex5(data4)"
   ]
  },
  {
   "cell_type": "code",
   "execution_count": 0,
   "metadata": {},
   "outputs": [],
   "source": [
    "# run to read the next section\n",
    "ide.reader.view_section(13)"
   ]
  },
  {
   "cell_type": "code",
   "execution_count": 0,
   "metadata": {},
   "outputs": [],
   "source": [
    "def plot_ex6(data):\n",
    "  fig, axes = plt.subplots()\n",
    "  markers = axes.bar(data.n, data.y, color='red')\n",
    "  for marker, y in zip(markers, data.y): \n",
    "    if y > 0:\n",
    "      marker.set(color='green', linewidth=3)\n",
    "      marker.set_edgecolor('black')\n",
    "\n",
    "data10 = RandomData(10)\n",
    "plot_ex6(data10)"
   ]
  },
  {
   "cell_type": "code",
   "execution_count": 0,
   "metadata": {},
   "outputs": [],
   "source": [
    "# run to read the next section\n",
    "ide.reader.view_section(15)"
   ]
  },
  {
   "cell_type": "code",
   "execution_count": 0,
   "metadata": {},
   "outputs": [],
   "source": [
    "def plot_ex7(data):\n",
    "  fig, axes = plt.subplots()\n",
    "  axes.fill_between(data.n, data.x, data.y, color='red')\n",
    "  \n",
    "plot_ex7(data10)"
   ]
  },
  {
   "cell_type": "code",
   "execution_count": 0,
   "metadata": {},
   "outputs": [],
   "source": [
    "# run to read the next section\n",
    "ide.reader.view_section(17)"
   ]
  },
  {
   "cell_type": "code",
   "execution_count": 0,
   "metadata": {},
   "outputs": [],
   "source": [
    "def plot_ex8(data):\n",
    "  fig, axes = plt.subplots()\n",
    "  axes.fill_between(data.n, data.x, data.y, \n",
    "                    where=(data.x > data.y), color='c', alpha=0.3, \n",
    "                    interpolate=True)\n",
    "  axes.fill_between(data.n, data.x, data.y, \n",
    "                    where=(data.x <= data.y), color='y', alpha=0.3,\n",
    "                    interpolate=True)\n",
    "plot_ex8(data10)"
   ]
  },
  {
   "cell_type": "code",
   "execution_count": 0,
   "metadata": {},
   "outputs": [],
   "source": [
    "# run to read the next section\n",
    "ide.reader.view_section(19)"
   ]
  },
  {
   "cell_type": "code",
   "execution_count": 0,
   "metadata": {},
   "outputs": [],
   "source": [
    "import itertools\n",
    "def plot_ex9(data, cc):\n",
    "  fig, axes = plt.subplots(figsize=(6,6))\n",
    "  for i in data.n:\n",
    "     axes.scatter(i, i, s=200, c=next(cc), edgecolor='black')\n",
    "     \n",
    "data = RandomData(40)\n",
    "colors = itertools.cycle([\"r\", \"b\", \"g\", \"yellow\"])\n",
    "plot_ex9(data, colors)"
   ]
  },
  {
   "cell_type": "code",
   "execution_count": 0,
   "metadata": {},
   "outputs": [],
   "source": [
    "# run to read the next section\n",
    "ide.reader.view_section(21)"
   ]
  },
  {
   "cell_type": "code",
   "execution_count": 0,
   "metadata": {},
   "outputs": [],
   "source": [
    "from cycler import cycler\n",
    "def plot_ex10(data, cc):\n",
    "  fig, axes = plt.subplots(figsize=(6,6))\n",
    "  axes.set_prop_cycle(cc)\n",
    "  \n",
    "  for i in data.n:\n",
    "     axes.scatter(i, i) \n",
    "\n",
    "cc = cycler(color=['c', 'm', 'y', 'k'])\n",
    "data = RandomData(40)\n",
    "plot_ex10(data,cc)"
   ]
  },
  {
   "cell_type": "code",
   "execution_count": 0,
   "metadata": {},
   "outputs": [],
   "source": [
    "# run to read the next section\n",
    "ide.reader.view_section(23)"
   ]
  },
  {
   "cell_type": "code",
   "execution_count": 0,
   "metadata": {},
   "outputs": [],
   "source": [
    "def plot_ex11(data):\n",
    "  fig, axes = plt.subplots(figsize=(6,6))\n",
    "  for i in data.n:\n",
    "      axes.scatter(i, i) \n",
    "plot_ex11(data)"
   ]
  },
  {
   "cell_type": "code",
   "execution_count": 0,
   "metadata": {},
   "outputs": [],
   "source": [
    "# run to read the next section\n",
    "ide.reader.view_section(25)"
   ]
  },
  {
   "cell_type": "code",
   "execution_count": 0,
   "metadata": {},
   "outputs": [],
   "source": [
    "def plot_ex12(data):\n",
    "  fig, axes = plt.subplots()\n",
    "  axes.fill_between(data.n, data.x, data.y, \n",
    "                    where=(data.x > data.y), color='C0', alpha=0.3, \n",
    "                    interpolate=True)\n",
    "  axes.fill_between(data.n, data.x, data.y, \n",
    "                    where=(data.x <= data.y), color='C1', alpha=0.3,\n",
    "                    interpolate=True)\n",
    "plot_ex12(data10)"
   ]
  },
  {
   "cell_type": "code",
   "execution_count": 0,
   "metadata": {},
   "outputs": [],
   "source": [
    "# run to read the next section\n",
    "ide.reader.view_section(27)"
   ]
  },
  {
   "cell_type": "code",
   "execution_count": 0,
   "metadata": {},
   "outputs": [],
   "source": [
    "import numpy as np\n",
    "def line_ex():\n",
    "  t = np.arange(0.0, 5.0, 0.2)\n",
    "  fig, ax = plt.subplots()\n",
    "  ax.plot(t, t, '-')\n",
    "  ax.plot(t, t**2, '--')\n",
    "  ax.plot(t, t**3, '-.')\n",
    "  ax.plot(t, -t, ':')\n",
    "  \n",
    "  return fig\n",
    "\n",
    "fig = line_ex()"
   ]
  },
  {
   "cell_type": "code",
   "execution_count": 0,
   "metadata": {},
   "outputs": [],
   "source": [
    "# run to read the next section\n",
    "ide.reader.view_section(29)"
   ]
  },
  {
   "cell_type": "code",
   "execution_count": 0,
   "metadata": {},
   "outputs": [],
   "source": [
    "def plot_ex13(data, cc):\n",
    "  fig, axes = plt.subplots(figsize=(6,6))\n",
    "  axes.set_prop_cycle(cc)\n",
    "  \n",
    "  for i in data.n:\n",
    "     axes.plot(i, i)      # colors and markers\n",
    "     # axes.scatter(i, i) # colors only\n",
    "\n",
    "cc = cycler(color=['c', 'm', 'y', 'k'], marker=['x','o','d','s'])\n",
    "data = RandomData(40)\n",
    "plot_ex13(data,cc)"
   ]
  },
  {
   "cell_type": "code",
   "execution_count": 0,
   "metadata": {},
   "outputs": [],
   "source": [
    "# run to read the next section\n",
    "ide.reader.view_section(31)"
   ]
  },
  {
   "cell_type": "markdown",
   "metadata": {},
   "source": [
    "# Opacity and Alpha"
   ]
  },
  {
   "cell_type": "code",
   "execution_count": 0,
   "metadata": {},
   "outputs": [],
   "source": [
    "# run to read the next section\n",
    "ide.reader.view_section(32)"
   ]
  },
  {
   "cell_type": "code",
   "execution_count": 0,
   "metadata": {},
   "outputs": [],
   "source": [
    "def plot_ex14(data):\n",
    "  fig, axes = plt.subplots()\n",
    "  color = '#0000ff30'  \n",
    "  #color = (0, 0, 1, 0.20)\n",
    "  axes.scatter(data.x, data.y, color=color)\n",
    "  \n",
    "plot_ex14(RandomData(1000))"
   ]
  },
  {
   "cell_type": "markdown",
   "metadata": {},
   "source": [
    "# Color Palette"
   ]
  },
  {
   "cell_type": "code",
   "execution_count": 0,
   "metadata": {},
   "outputs": [],
   "source": [
    "# run to read the next section\n",
    "ide.reader.view_section(34)"
   ]
  },
  {
   "cell_type": "markdown",
   "metadata": {},
   "source": [
    "# Lesson Assignment"
   ]
  },
  {
   "cell_type": "code",
   "execution_count": 0,
   "metadata": {},
   "outputs": [],
   "source": [
    "# run to read the next section\n",
    "ide.reader.view_section(35)"
   ]
  },
  {
   "cell_type": "code",
   "execution_count": 0,
   "metadata": {},
   "outputs": [],
   "source": [
    "data = RandomPetData(100)\n",
    "print(data.pet)"
   ]
  },
  {
   "cell_type": "code",
   "execution_count": 0,
   "metadata": {},
   "outputs": [],
   "source": [
    "# run to read the next section\n",
    "ide.reader.view_section(37)"
   ]
  },
  {
   "cell_type": "code",
   "execution_count": 0,
   "metadata": {},
   "outputs": [],
   "source": [
    "def build_colormap():\n",
    "   # use colorbrewer to fill in the mapping between pet name and color\n",
    "   return {'dog': 'green'}"
   ]
  },
  {
   "cell_type": "code",
   "execution_count": 0,
   "metadata": {},
   "outputs": [],
   "source": [
    "# run to read the next section\n",
    "ide.reader.view_section(39)"
   ]
  },
  {
   "cell_type": "code",
   "execution_count": 0,
   "metadata": {},
   "outputs": [],
   "source": [
    "def plot_pets(data, cmap):\n",
    "  pass"
   ]
  },
  {
   "cell_type": "code",
   "execution_count": 0,
   "metadata": {},
   "outputs": [],
   "source": [
    "# run to read the next section\n",
    "ide.reader.view_section(41)"
   ]
  },
  {
   "cell_type": "markdown",
   "metadata": {},
   "source": [
    "# Test and Submit"
   ]
  },
  {
   "cell_type": "code",
   "execution_count": 0,
   "metadata": {},
   "outputs": [],
   "source": [
    "# run to read the next section\n",
    "ide.reader.view_section(42)"
   ]
  },
  {
   "cell_type": "code",
   "execution_count": 0,
   "metadata": {},
   "outputs": [],
   "source": [
    "# print(ide.tester.test_notebook()) \n",
    "# print(ide.tester.test_notebook(verbose=True)) \n",
    "\n",
    "ide.tester.download_solution()"
   ]
  }
 ],
 "metadata": {
  "colab": {
   "authorship_tag": "AB",
   "collapsed_sections": [],
   "count": 44,
   "name": "Color",
   "provenance": []
  },
  "kernelspec": {
   "display_name": "Python 3",
   "name": "python3"
  },
  "language": "python"
 },
 "nbformat": 4,
 "nbformat_minor": 4
}
